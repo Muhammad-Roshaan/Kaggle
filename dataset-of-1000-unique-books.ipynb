{
 "cells": [
  {
   "cell_type": "markdown",
   "id": "0624ae45",
   "metadata": {
    "papermill": {
     "duration": 0.00262,
     "end_time": "2024-05-16T06:54:23.113182",
     "exception": false,
     "start_time": "2024-05-16T06:54:23.110562",
     "status": "completed"
    },
    "tags": []
   },
   "source": [
    "## Web Scraping Analysis\n",
    "\n",
    "### Libraries Used\n",
    "- **requests**\n",
    "- **BeautifulSoup**\n",
    "- **pandas**\n",
    "\n",
    "### Script Overview\n",
    "\n",
    "1. **Looping through Pages**\n",
    "2. **Constructing URLs**\n",
    "3. **HTTP Request**\n",
    "4. **Parsing HTML Content**\n",
    "5. **Finding Book Elements**\n",
    "6. **Extracting Book Information**\n",
    "\n",
    "### Code Issues\n",
    "\n",
    "1. **Response Variable Assignment**\n",
    "2. **Loop Variable Unused**\n",
    "3. **Parsing Errors**\n",
    "4. **Image and Title Extraction**\n",
    "\n"
   ]
  },
  {
   "cell_type": "code",
   "execution_count": 1,
   "id": "392e62c0",
   "metadata": {
    "execution": {
     "iopub.execute_input": "2024-05-16T06:54:23.119451Z",
     "iopub.status.busy": "2024-05-16T06:54:23.119030Z",
     "iopub.status.idle": "2024-05-16T06:54:47.357859Z",
     "shell.execute_reply": "2024-05-16T06:54:47.356184Z"
    },
    "papermill": {
     "duration": 24.245383,
     "end_time": "2024-05-16T06:54:47.360953",
     "exception": false,
     "start_time": "2024-05-16T06:54:23.115570",
     "status": "completed"
    },
    "tags": []
   },
   "outputs": [
    {
     "name": "stdout",
     "output_type": "stream",
     "text": [
      "                                   Title  \\\n",
      "0                   A Light in the Attic   \n",
      "1                     Tipping the Velvet   \n",
      "2                             Soumission   \n",
      "3                          Sharp Objects   \n",
      "4  Sapiens: A Brief History of Humankind   \n",
      "\n",
      "                                               Image  \n",
      "0  ../media/cache/2c/da/2cdad67c44b002e7ead0cc356...  \n",
      "1  ../media/cache/26/0c/260c6ae16bce31c8f8c95dadd...  \n",
      "2  ../media/cache/3e/ef/3eef99c9d9adef34639f51066...  \n",
      "3  ../media/cache/32/51/3251cf3a3412f53f339e42cac...  \n",
      "4  ../media/cache/be/a5/bea5697f2534a2f86a3ef27b5...  \n"
     ]
    }
   ],
   "source": [
    "import requests\n",
    "from bs4 import BeautifulSoup\n",
    "import pandas as pd\n",
    "\n",
    "books = []\n",
    "\n",
    "for i in range(1, 51):\n",
    "    url = f'https://books.toscrape.com/catalogue/page-{i}.html'\n",
    "    response = requests.get(url)\n",
    "    soup = BeautifulSoup(response.content, 'html.parser')\n",
    "    ol = soup.find('ol', class_='row')\n",
    "    articles = ol.find_all(\"article\", class_=\"product_pod\")\n",
    "\n",
    "    for article in articles:\n",
    "        image = article.find('img')['src']\n",
    "        title = article.find('h3').find('a')['title']\n",
    "        books.append({'Title': title, 'Image': image})\n",
    "\n",
    "# Create a DataFrame from the list of books\n",
    "df = pd.DataFrame(books)\n",
    "print(df.head())"
   ]
  },
  {
   "cell_type": "markdown",
   "id": "250df4d1",
   "metadata": {
    "papermill": {
     "duration": 0.001982,
     "end_time": "2024-05-16T06:54:47.365386",
     "exception": false,
     "start_time": "2024-05-16T06:54:47.363404",
     "status": "completed"
    },
    "tags": []
   },
   "source": [
    "### Conclusion\n",
    "\n",
    "The provided code is a web scraping script designed to extract information about books from the \"books.toscrape.com\" website. However, it contains several issues and errors that need to be addressed for it to function correctly. These include:\n",
    "\n",
    "1. **Response Variable Assignment**: There is a typo in the assignment of the `response` variable (`request` instead of `requests`), causing a NameError.\n",
    "2. **Loop Variable Unused**: The loop variable `i` is used to construct the URLs but is not used inside the loop for any other purpose.\n",
    "3. **Parsing Errors**: There are syntax errors and incorrect usage of BeautifulSoup methods, resulting in parsing errors.\n",
    "4. **Image and Title Extraction**: After fixing the parsing errors, the script should properly extract the book's image and title attributes from each `<article>` element.\n",
    "\n",
    "Once these issues are addressed, the script should be able to successfully scrape the desired information from the website.\n",
    "\n"
   ]
  }
 ],
 "metadata": {
  "kaggle": {
   "accelerator": "none",
   "dataSources": [
    {
     "datasetId": 4993543,
     "sourceId": 8394100,
     "sourceType": "datasetVersion"
    }
   ],
   "dockerImageVersionId": 30698,
   "isGpuEnabled": false,
   "isInternetEnabled": true,
   "language": "python",
   "sourceType": "notebook"
  },
  "kernelspec": {
   "display_name": "Python 3",
   "language": "python",
   "name": "python3"
  },
  "language_info": {
   "codemirror_mode": {
    "name": "ipython",
    "version": 3
   },
   "file_extension": ".py",
   "mimetype": "text/x-python",
   "name": "python",
   "nbconvert_exporter": "python",
   "pygments_lexer": "ipython3",
   "version": "3.10.13"
  },
  "papermill": {
   "default_parameters": {},
   "duration": 27.77915,
   "end_time": "2024-05-16T06:54:47.887542",
   "environment_variables": {},
   "exception": null,
   "input_path": "__notebook__.ipynb",
   "output_path": "__notebook__.ipynb",
   "parameters": {},
   "start_time": "2024-05-16T06:54:20.108392",
   "version": "2.5.0"
  }
 },
 "nbformat": 4,
 "nbformat_minor": 5
}
